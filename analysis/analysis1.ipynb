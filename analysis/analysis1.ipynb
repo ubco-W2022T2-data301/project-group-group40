{
 "cells": [
  {
   "cell_type": "markdown",
   "metadata": {},
   "source": [
    "Abdur Rehman"
   ]
  },
  {
   "cell_type": "markdown",
   "metadata": {},
   "source": [
    "**\"What are the underlying factors contributing to the high costs of healthcare in the United States\"**\n",
    "\n",
    "To help me answer this question, I will add a obesity(per age) column in the dataset. The addition of this new column will help answer the question about the underlying factors contributing to high healthcare costs in the United States because obesity is a major risk factor for many chronic diseases, such as heart disease, diabetes, and certain types of cancer. By including data on obesity rates in the healthcare cost data set, you can explore the relationship between obesity and healthcare costs, and investigate whether regions with higher rates of obesity also have higher healthcare costs. This information can help policymakers and healthcare providers identify strategies to reduce healthcare costs by addressing the underlying causes of chronic disease."
   ]
  },
  {
   "cell_type": "code",
   "execution_count": 1,
   "metadata": {},
   "outputs": [],
   "source": [
    "import pandas as pd\n",
    "\n",
    "project_data = pd.read_csv('../data/raw/Medical_Cost.csv')"
   ]
  },
  {
   "cell_type": "code",
   "execution_count": null,
   "metadata": {},
   "outputs": [],
   "source": []
  },
  {
   "cell_type": "code",
   "execution_count": null,
   "metadata": {},
   "outputs": [],
   "source": []
  }
 ],
 "metadata": {
  "kernelspec": {
   "display_name": "Python 3 (ipykernel)",
   "language": "python",
   "name": "python3"
  },
  "language_info": {
   "codemirror_mode": {
    "name": "ipython",
    "version": 3
   },
   "file_extension": ".py",
   "mimetype": "text/x-python",
   "name": "python",
   "nbconvert_exporter": "python",
   "pygments_lexer": "ipython3",
   "version": "3.10.8"
  },
  "vscode": {
   "interpreter": {
    "hash": "31f2aee4e71d21fbe5cf8b01ff0e069b9275f58929596ceb00d14d90e3e16cd6"
   }
  }
 },
 "nbformat": 4,
 "nbformat_minor": 4
}
