{
 "cells": [
  {
   "cell_type": "markdown",
   "metadata": {},
   "source": [
    "Abdullah Munir "
   ]
  },
  {
   "cell_type": "markdown",
   "metadata": {},
   "source": [
    "## Research question/interests\n",
    "\n",
    "Briefly describe your research question or interests here.\n",
    "\n",
    "**Are there differences in medical expenditures billed by health insurance in the United States across different demographic groups?**\n",
    "\n",
    "To answer this research question, I want to utilize a dataset containing medical spending data for individuals in the United States and demographic data such as age, gender, race, income, and geographic region. To begin, I will clean and analyze the data to eliminate any missing values or outliers and standardize any variables that need to be converted. To compute some metrics of interest, I need to add more columns to the dataset. The insurance coverage column, which I want to add, will indicate if the individual has health insurance and, if so, what sort of insurance (e.g. private, public, employer-sponsored)."
   ]
  },
  {
   "cell_type": "code",
   "execution_count": 1,
   "metadata": {},
   "outputs": [],
   "source": [
    "import pandas as pd\n",
    "dataset = pd.read_csv('../data/raw/Medical_Cost.csv')"
   ]
  },
  {
   "cell_type": "code",
   "execution_count": null,
   "metadata": {},
   "outputs": [],
   "source": []
  }
 ],
 "metadata": {
  "kernelspec": {
   "display_name": "Python 3 (ipykernel)",
   "language": "python",
   "name": "python3"
  },
  "language_info": {
   "codemirror_mode": {
    "name": "ipython",
    "version": 3
   },
   "file_extension": ".py",
   "mimetype": "text/x-python",
   "name": "python",
   "nbconvert_exporter": "python",
   "pygments_lexer": "ipython3",
<<<<<<< HEAD
   "version": "3.10.9"
=======
   "version": "3.10.8"
>>>>>>> 257c296634df59383e9ca1a9bc20ee088abb2319
  },
  "vscode": {
   "interpreter": {
    "hash": "31f2aee4e71d21fbe5cf8b01ff0e069b9275f58929596ceb00d14d90e3e16cd6"
   }
  }
 },
 "nbformat": 4,
 "nbformat_minor": 4
}
